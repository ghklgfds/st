{
  "nbformat": 4,
  "nbformat_minor": 0,
  "metadata": {
    "colab": {
      "name": "スクレイピングした二つのサイトの類似度",
      "provenance": [],
      "toc_visible": true,
      "mount_file_id": "1kfMVdPz8U6JF66mfvP1EMuk_ZP1-ufs7",
      "authorship_tag": "ABX9TyNDz7demrveJwg5whb/Ix4j",
      "include_colab_link": true
    },
    "kernelspec": {
      "name": "python3",
      "display_name": "Python 3"
    },
    "language_info": {
      "name": "python"
    }
  },
  "cells": [
    {
      "cell_type": "markdown",
      "metadata": {
        "id": "view-in-github",
        "colab_type": "text"
      },
      "source": [
        "<a href=\"https://colab.research.google.com/github/ghklgfds/st/blob/main/%E3%82%B9%E3%82%AF%E3%83%AC%E3%82%A4%E3%83%94%E3%83%B3%E3%82%B0%E3%81%97%E3%81%9F%E4%BA%8C%E3%81%A4%E3%81%AE%E3%82%B5%E3%82%A4%E3%83%88%E3%81%AE%E9%A1%9E%E4%BC%BC%E5%BA%A6.ipynb\" target=\"_parent\"><img src=\"https://colab.research.google.com/assets/colab-badge.svg\" alt=\"Open In Colab\"/></a>"
      ]
    },
    {
      "cell_type": "code",
      "metadata": {
        "colab": {
          "base_uri": "https://localhost:8080/"
        },
        "id": "k9U3JrlK8DyE",
        "outputId": "ead0c308-51e1-4cd0-f0a8-834422e4b7ab"
      },
      "source": [
        "pip install janome"
      ],
      "execution_count": null,
      "outputs": [
        {
          "output_type": "stream",
          "name": "stdout",
          "text": [
            "Collecting janome\n",
            "  Downloading Janome-0.4.1-py2.py3-none-any.whl (19.7 MB)\n",
            "\u001b[K     |████████████████████████████████| 19.7 MB 1.2 MB/s \n",
            "\u001b[?25hInstalling collected packages: janome\n",
            "Successfully installed janome-0.4.1\n"
          ]
        }
      ]
    },
    {
      "cell_type": "code",
      "metadata": {
        "colab": {
          "base_uri": "https://localhost:8080/"
        },
        "id": "06PIiaV975Ld",
        "outputId": "c11ca6b1-af52-441a-fbd7-d146d1d13527"
      },
      "source": [
        "from janome.tokenizer import Tokenizer\n",
        "import csv\n",
        "from collections import Counter\n",
        "import reqoest\n",
        "import pandas\n",
        "import bs4\n",
        "import time\n",
        "def split_into_words(doc):\n",
        "    \"\"\"\n",
        "    名詞だけを取り出してリストで戻す関数\n",
        "    \"\"\"\n",
        "    try:\n",
        "        t = Tokenizer(mmap=True)\n",
        "        word_list = []\n",
        "        # 形態素して取り出す\n",
        "        for token in t.tokenize(doc):\n",
        "            # 品詞の判定をして、名詞か動詞か形容詞だけを取り出す\n",
        "            if (token.part_of_speech.split(\",\")[0] in (\"名詞\",\"動詞\",\"形容詞\")\n",
        "                and  token.part_of_speech.split(\",\")[1] != \"数\"):  # ただし、数詞は使っても意味が薄いので捨てる\n",
        "                # 表層形を登録する\n",
        "                word_list.append(token.surface)\n",
        "        return word_list\n",
        "    except Exception as ex:\n",
        "        print(ex)\n",
        "        return []\n",
        "\n",
        "\n",
        "bow_data = {}\n",
        "tank=[]\n",
        "word=[]\n",
        "with open(\"/content/drive/MyDrive/類似度サンプル - シート1.csv\") as f:\n",
        "    reader = csv.DictReader(f)\n",
        "    for row in reader:\n",
        "      a=split_into_words(str(row))\n",
        "      #print(Counter(split_into_words(str(a))))\n",
        "      word.append(row)\n",
        "      tank.append(a)\n",
        "cnt1=0\n",
        "cnt2=0\n",
        "i=0\n",
        "while i<len(tank):\n",
        "   t=0\n",
        "   while t<len(tank):\n",
        "         if(len(set(tank[i])&set(tank[t])))>18:\n",
        "           if cnt1!=cnt2:\n",
        "              print(word[cnt1])\n",
        "              print(word[cnt2])\n",
        "              print(cnt1,cnt2)\n",
        "         t=t+1\n",
        "         cnt2=cnt2+1\n",
        "   i=i+1\n",
        "   cnt1=cnt1+1\n",
        "   cnt2=0\n"
      ],
      "execution_count": null,
      "outputs": [
        {
          "output_type": "stream",
          "name": "stdout",
          "text": [
            "OrderedDict([(None, ['履歴事項全部証明書とは - 取得方法 | 登記簿謄本・登記事項証明書との違い | ボクシルマガジン'])])\n",
            "OrderedDict([(None, ['h1: 履歴事項全部証明書とは - 取得方法 | 登記簿謄本・登記事項証明書との違い'])])\n",
            "0 4\n",
            "OrderedDict([(None, ['h1: 履歴事項全部証明書とは - 取得方法 | 登記簿謄本・登記事項証明書との違い'])])\n",
            "OrderedDict([(None, ['履歴事項全部証明書とは - 取得方法 | 登記簿謄本・登記事項証明書との違い | ボクシルマガジン'])])\n",
            "4 0\n",
            "OrderedDict([(None, ['会社の登記簿謄本（履歴事項全部証明書）の取得方法とは？｜AI-CON登記'])])\n",
            "OrderedDict([(None, ['この記事では会社の登記簿謄本（履歴事項全部証明書）の取得方法について解説しています。AI-CON登記は本店移転・役員変更・代表取締役の住所変更などの株式会社の変更登記申請書類の自動作成オンラインサービスです。'])])\n",
            "41 42\n",
            "OrderedDict([(None, ['この記事では会社の登記簿謄本（履歴事項全部証明書）の取得方法について解説しています。AI-CON登記は本店移転・役員変更・代表取締役の住所変更などの株式会社の変更登記申請書類の自動作成オンラインサービスです。'])])\n",
            "OrderedDict([(None, ['会社の登記簿謄本（履歴事項全部証明書）の取得方法とは？｜AI-CON登記'])])\n",
            "42 41\n",
            "OrderedDict([(None, ['この記事では会社の登記簿謄本（履歴事項全部証明書）の取得方法について解説しています。AI-CON登記は本店移転・役員変更・代表取締役の住所変更などの株式会社の変更登記申請書類の自動作成オンラインサービスです。'])])\n",
            "OrderedDict([(None, ['h2: AI-CON登記の登記簿謄本（履歴事項全部証明書）の取得サービスについて'])])\n",
            "42 53\n",
            "OrderedDict([(None, ['h1: 会社・法人の登記簿謄本（履歴事項全部証明書）の取得方法とは？'])])\n",
            "OrderedDict([(None, ['h2: 会社・法人の登記簿謄本（履歴事項全部証明書）は誰が取得できるのか？'])])\n",
            "45 46\n",
            "OrderedDict([(None, ['h1: 会社・法人の登記簿謄本（履歴事項全部証明書）の取得方法とは？'])])\n",
            "OrderedDict([(None, ['h2: 会社・法人の登記簿謄本（履歴事項全部証明書）の取得方法とは？'])])\n",
            "45 47\n",
            "OrderedDict([(None, ['h1: 会社・法人の登記簿謄本（履歴事項全部証明書）の取得方法とは？'])])\n",
            "OrderedDict([(None, ['h2: 会社・法人の登記簿謄本（履歴事項全部証明書）の取得手数料とは？'])])\n",
            "45 51\n",
            "OrderedDict([(None, ['h2: 会社・法人の登記簿謄本（履歴事項全部証明書）は誰が取得できるのか？'])])\n",
            "OrderedDict([(None, ['h1: 会社・法人の登記簿謄本（履歴事項全部証明書）の取得方法とは？'])])\n",
            "46 45\n",
            "OrderedDict([(None, ['h2: 会社・法人の登記簿謄本（履歴事項全部証明書）は誰が取得できるのか？'])])\n",
            "OrderedDict([(None, ['h2: 会社・法人の登記簿謄本（履歴事項全部証明書）の取得方法とは？'])])\n",
            "46 47\n",
            "OrderedDict([(None, ['h2: 会社・法人の登記簿謄本（履歴事項全部証明書）は誰が取得できるのか？'])])\n",
            "OrderedDict([(None, ['h2: 会社・法人の登記簿謄本（履歴事項全部証明書）の取得手数料とは？'])])\n",
            "46 51\n",
            "OrderedDict([(None, ['h2: 会社・法人の登記簿謄本（履歴事項全部証明書）の取得方法とは？'])])\n",
            "OrderedDict([(None, ['h1: 会社・法人の登記簿謄本（履歴事項全部証明書）の取得方法とは？'])])\n",
            "47 45\n",
            "OrderedDict([(None, ['h2: 会社・法人の登記簿謄本（履歴事項全部証明書）の取得方法とは？'])])\n",
            "OrderedDict([(None, ['h2: 会社・法人の登記簿謄本（履歴事項全部証明書）は誰が取得できるのか？'])])\n",
            "47 46\n",
            "OrderedDict([(None, ['h2: 会社・法人の登記簿謄本（履歴事項全部証明書）の取得方法とは？'])])\n",
            "OrderedDict([(None, ['h2: 会社・法人の登記簿謄本（履歴事項全部証明書）の取得手数料とは？'])])\n",
            "47 51\n",
            "OrderedDict([(None, ['h2: 会社・法人の登記簿謄本（履歴事項全部証明書）の取得手数料とは？'])])\n",
            "OrderedDict([(None, ['h1: 会社・法人の登記簿謄本（履歴事項全部証明書）の取得方法とは？'])])\n",
            "51 45\n",
            "OrderedDict([(None, ['h2: 会社・法人の登記簿謄本（履歴事項全部証明書）の取得手数料とは？'])])\n",
            "OrderedDict([(None, ['h2: 会社・法人の登記簿謄本（履歴事項全部証明書）は誰が取得できるのか？'])])\n",
            "51 46\n",
            "OrderedDict([(None, ['h2: 会社・法人の登記簿謄本（履歴事項全部証明書）の取得手数料とは？'])])\n",
            "OrderedDict([(None, ['h2: 会社・法人の登記簿謄本（履歴事項全部証明書）の取得方法とは？'])])\n",
            "51 47\n",
            "OrderedDict([(None, ['h2: AI-CON登記の登記簿謄本（履歴事項全部証明書）の取得サービスについて'])])\n",
            "OrderedDict([(None, ['この記事では会社の登記簿謄本（履歴事項全部証明書）の取得方法について解説しています。AI-CON登記は本店移転・役員変更・代表取締役の住所変更などの株式会社の変更登記申請書類の自動作成オンラインサービスです。'])])\n",
            "53 42\n"
          ]
        }
      ]
    },
    {
      "cell_type": "code",
      "metadata": {
        "id": "cgoaDYTHMU_Y"
      },
      "source": [
        ""
      ],
      "execution_count": null,
      "outputs": []
    },
    {
      "cell_type": "markdown",
      "metadata": {
        "id": "YZZ8NfjDMVeT"
      },
      "source": [
        ""
      ]
    },
    {
      "cell_type": "code",
      "metadata": {
        "id": "98i8lk3M8CrR"
      },
      "source": [
        "# 結果格納用\n",
        "result_set = []\n",
        "for question, data in bow_data.items():\n",
        "    tmp_score = 0\n",
        "    # あるFAQについてのCounterを取得\n",
        "    count_data = data[\"count_data\"]\n",
        "    # 入力されている質問について1単語ずつ取得\n",
        "    for word, word_count in input_counter.items():\n",
        "        # QA内での出現数と質問内の出現数を乗じてスコアに加算\n",
        "        tmp_score += count_data.get(word, 0) * word_count\n",
        "    # scoreが0なQAは候補から外す\n",
        "    if tmp_score == 0:\n",
        "        continue\n",
        "    result_set.append({\n",
        "        \"question\": question,\n",
        "        \"score\": tmp_score\n",
        "    })\n",
        "# スコアの降順で整列\n",
        "result_set.sort(key=lambda x: x[\"score\"], reverse=True)"
      ],
      "execution_count": null,
      "outputs": []
    },
    {
      "cell_type": "code",
      "metadata": {
        "id": "okZe1SOH-ClR"
      },
      "source": [
        "for result in result_set[:3]:\n",
        "    print(result)\n",
        "    print(bow_data[result[\"question\"]][\"link\"])"
      ],
      "execution_count": null,
      "outputs": []
    },
    {
      "cell_type": "code",
      "metadata": {
        "colab": {
          "base_uri": "https://localhost:8080/",
          "height": 681
        },
        "id": "FBMekIw-M2FK",
        "outputId": "1f40297b-0180-4b4a-c998-986c4e4188e4"
      },
      "source": [
        "from google.colab import drive\n",
        "drive.mount('/content/drive')"
      ],
      "execution_count": 1,
      "outputs": [
        {
          "output_type": "error",
          "ename": "KeyboardInterrupt",
          "evalue": "ignored",
          "traceback": [
            "\u001b[0;31m---------------------------------------------------------------------------\u001b[0m",
            "\u001b[0;31mKeyboardInterrupt\u001b[0m                         Traceback (most recent call last)",
            "\u001b[0;32m/usr/local/lib/python3.7/dist-packages/ipykernel/kernelbase.py\u001b[0m in \u001b[0;36m_input_request\u001b[0;34m(self, prompt, ident, parent, password)\u001b[0m\n\u001b[1;32m    728\u001b[0m             \u001b[0;32mtry\u001b[0m\u001b[0;34m:\u001b[0m\u001b[0;34m\u001b[0m\u001b[0;34m\u001b[0m\u001b[0m\n\u001b[0;32m--> 729\u001b[0;31m                 \u001b[0mident\u001b[0m\u001b[0;34m,\u001b[0m \u001b[0mreply\u001b[0m \u001b[0;34m=\u001b[0m \u001b[0mself\u001b[0m\u001b[0;34m.\u001b[0m\u001b[0msession\u001b[0m\u001b[0;34m.\u001b[0m\u001b[0mrecv\u001b[0m\u001b[0;34m(\u001b[0m\u001b[0mself\u001b[0m\u001b[0;34m.\u001b[0m\u001b[0mstdin_socket\u001b[0m\u001b[0;34m,\u001b[0m \u001b[0;36m0\u001b[0m\u001b[0;34m)\u001b[0m\u001b[0;34m\u001b[0m\u001b[0;34m\u001b[0m\u001b[0m\n\u001b[0m\u001b[1;32m    730\u001b[0m             \u001b[0;32mexcept\u001b[0m \u001b[0mException\u001b[0m\u001b[0;34m:\u001b[0m\u001b[0;34m\u001b[0m\u001b[0;34m\u001b[0m\u001b[0m\n",
            "\u001b[0;32m/usr/local/lib/python3.7/dist-packages/jupyter_client/session.py\u001b[0m in \u001b[0;36mrecv\u001b[0;34m(self, socket, mode, content, copy)\u001b[0m\n\u001b[1;32m    802\u001b[0m         \u001b[0;32mtry\u001b[0m\u001b[0;34m:\u001b[0m\u001b[0;34m\u001b[0m\u001b[0;34m\u001b[0m\u001b[0m\n\u001b[0;32m--> 803\u001b[0;31m             \u001b[0mmsg_list\u001b[0m \u001b[0;34m=\u001b[0m \u001b[0msocket\u001b[0m\u001b[0;34m.\u001b[0m\u001b[0mrecv_multipart\u001b[0m\u001b[0;34m(\u001b[0m\u001b[0mmode\u001b[0m\u001b[0;34m,\u001b[0m \u001b[0mcopy\u001b[0m\u001b[0;34m=\u001b[0m\u001b[0mcopy\u001b[0m\u001b[0;34m)\u001b[0m\u001b[0;34m\u001b[0m\u001b[0;34m\u001b[0m\u001b[0m\n\u001b[0m\u001b[1;32m    804\u001b[0m         \u001b[0;32mexcept\u001b[0m \u001b[0mzmq\u001b[0m\u001b[0;34m.\u001b[0m\u001b[0mZMQError\u001b[0m \u001b[0;32mas\u001b[0m \u001b[0me\u001b[0m\u001b[0;34m:\u001b[0m\u001b[0;34m\u001b[0m\u001b[0;34m\u001b[0m\u001b[0m\n",
            "\u001b[0;32m/usr/local/lib/python3.7/dist-packages/zmq/sugar/socket.py\u001b[0m in \u001b[0;36mrecv_multipart\u001b[0;34m(self, flags, copy, track)\u001b[0m\n\u001b[1;32m    624\u001b[0m         \"\"\"\n\u001b[0;32m--> 625\u001b[0;31m         \u001b[0mparts\u001b[0m \u001b[0;34m=\u001b[0m \u001b[0;34m[\u001b[0m\u001b[0mself\u001b[0m\u001b[0;34m.\u001b[0m\u001b[0mrecv\u001b[0m\u001b[0;34m(\u001b[0m\u001b[0mflags\u001b[0m\u001b[0;34m,\u001b[0m \u001b[0mcopy\u001b[0m\u001b[0;34m=\u001b[0m\u001b[0mcopy\u001b[0m\u001b[0;34m,\u001b[0m \u001b[0mtrack\u001b[0m\u001b[0;34m=\u001b[0m\u001b[0mtrack\u001b[0m\u001b[0;34m)\u001b[0m\u001b[0;34m]\u001b[0m\u001b[0;34m\u001b[0m\u001b[0;34m\u001b[0m\u001b[0m\n\u001b[0m\u001b[1;32m    626\u001b[0m         \u001b[0;31m# have first part already, only loop while more to receive\u001b[0m\u001b[0;34m\u001b[0m\u001b[0;34m\u001b[0m\u001b[0;34m\u001b[0m\u001b[0m\n",
            "\u001b[0;32mzmq/backend/cython/socket.pyx\u001b[0m in \u001b[0;36mzmq.backend.cython.socket.Socket.recv\u001b[0;34m()\u001b[0m\n",
            "\u001b[0;32mzmq/backend/cython/socket.pyx\u001b[0m in \u001b[0;36mzmq.backend.cython.socket.Socket.recv\u001b[0;34m()\u001b[0m\n",
            "\u001b[0;32mzmq/backend/cython/socket.pyx\u001b[0m in \u001b[0;36mzmq.backend.cython.socket._recv_copy\u001b[0;34m()\u001b[0m\n",
            "\u001b[0;32m/usr/local/lib/python3.7/dist-packages/zmq/backend/cython/checkrc.pxd\u001b[0m in \u001b[0;36mzmq.backend.cython.checkrc._check_rc\u001b[0;34m()\u001b[0m\n",
            "\u001b[0;31mKeyboardInterrupt\u001b[0m: ",
            "\nDuring handling of the above exception, another exception occurred:\n",
            "\u001b[0;31mKeyboardInterrupt\u001b[0m                         Traceback (most recent call last)",
            "\u001b[0;32m<ipython-input-1-d5df0069828e>\u001b[0m in \u001b[0;36m<module>\u001b[0;34m()\u001b[0m\n\u001b[1;32m      1\u001b[0m \u001b[0;32mfrom\u001b[0m \u001b[0mgoogle\u001b[0m\u001b[0;34m.\u001b[0m\u001b[0mcolab\u001b[0m \u001b[0;32mimport\u001b[0m \u001b[0mdrive\u001b[0m\u001b[0;34m\u001b[0m\u001b[0;34m\u001b[0m\u001b[0m\n\u001b[0;32m----> 2\u001b[0;31m \u001b[0mdrive\u001b[0m\u001b[0;34m.\u001b[0m\u001b[0mmount\u001b[0m\u001b[0;34m(\u001b[0m\u001b[0;34m'/content/drive'\u001b[0m\u001b[0;34m)\u001b[0m\u001b[0;34m\u001b[0m\u001b[0;34m\u001b[0m\u001b[0m\n\u001b[0m",
            "\u001b[0;32m/usr/local/lib/python3.7/dist-packages/google/colab/drive.py\u001b[0m in \u001b[0;36mmount\u001b[0;34m(mountpoint, force_remount, timeout_ms, use_metadata_server)\u001b[0m\n\u001b[1;32m    111\u001b[0m       \u001b[0mtimeout_ms\u001b[0m\u001b[0;34m=\u001b[0m\u001b[0mtimeout_ms\u001b[0m\u001b[0;34m,\u001b[0m\u001b[0;34m\u001b[0m\u001b[0;34m\u001b[0m\u001b[0m\n\u001b[1;32m    112\u001b[0m       \u001b[0muse_metadata_server\u001b[0m\u001b[0;34m=\u001b[0m\u001b[0muse_metadata_server\u001b[0m\u001b[0;34m,\u001b[0m\u001b[0;34m\u001b[0m\u001b[0;34m\u001b[0m\u001b[0m\n\u001b[0;32m--> 113\u001b[0;31m       ephemeral=ephemeral)\n\u001b[0m\u001b[1;32m    114\u001b[0m \u001b[0;34m\u001b[0m\u001b[0m\n\u001b[1;32m    115\u001b[0m \u001b[0;34m\u001b[0m\u001b[0m\n",
            "\u001b[0;32m/usr/local/lib/python3.7/dist-packages/google/colab/drive.py\u001b[0m in \u001b[0;36m_mount\u001b[0;34m(mountpoint, force_remount, timeout_ms, use_metadata_server, ephemeral)\u001b[0m\n\u001b[1;32m    290\u001b[0m       \u001b[0;32mwith\u001b[0m \u001b[0m_output\u001b[0m\u001b[0;34m.\u001b[0m\u001b[0muse_tags\u001b[0m\u001b[0;34m(\u001b[0m\u001b[0;34m'dfs-auth-dance'\u001b[0m\u001b[0;34m)\u001b[0m\u001b[0;34m:\u001b[0m\u001b[0;34m\u001b[0m\u001b[0;34m\u001b[0m\u001b[0m\n\u001b[1;32m    291\u001b[0m         \u001b[0;32mwith\u001b[0m \u001b[0mopen\u001b[0m\u001b[0;34m(\u001b[0m\u001b[0mfifo\u001b[0m\u001b[0;34m,\u001b[0m \u001b[0;34m'w'\u001b[0m\u001b[0;34m)\u001b[0m \u001b[0;32mas\u001b[0m \u001b[0mfifo_file\u001b[0m\u001b[0;34m:\u001b[0m\u001b[0;34m\u001b[0m\u001b[0;34m\u001b[0m\u001b[0m\n\u001b[0;32m--> 292\u001b[0;31m           \u001b[0mfifo_file\u001b[0m\u001b[0;34m.\u001b[0m\u001b[0mwrite\u001b[0m\u001b[0;34m(\u001b[0m\u001b[0mget_code\u001b[0m\u001b[0;34m(\u001b[0m\u001b[0mauth_prompt\u001b[0m\u001b[0;34m)\u001b[0m \u001b[0;34m+\u001b[0m \u001b[0;34m'\\n'\u001b[0m\u001b[0;34m)\u001b[0m\u001b[0;34m\u001b[0m\u001b[0;34m\u001b[0m\u001b[0m\n\u001b[0m\u001b[1;32m    293\u001b[0m       \u001b[0mwrote_to_fifo\u001b[0m \u001b[0;34m=\u001b[0m \u001b[0;32mTrue\u001b[0m\u001b[0;34m\u001b[0m\u001b[0;34m\u001b[0m\u001b[0m\n\u001b[1;32m    294\u001b[0m     \u001b[0;32melif\u001b[0m \u001b[0mcase\u001b[0m \u001b[0;34m==\u001b[0m \u001b[0;36m5\u001b[0m\u001b[0;34m:\u001b[0m\u001b[0;34m\u001b[0m\u001b[0;34m\u001b[0m\u001b[0m\n",
            "\u001b[0;32m/usr/local/lib/python3.7/dist-packages/ipykernel/kernelbase.py\u001b[0m in \u001b[0;36mraw_input\u001b[0;34m(self, prompt)\u001b[0m\n\u001b[1;32m    702\u001b[0m             \u001b[0mself\u001b[0m\u001b[0;34m.\u001b[0m\u001b[0m_parent_ident\u001b[0m\u001b[0;34m,\u001b[0m\u001b[0;34m\u001b[0m\u001b[0;34m\u001b[0m\u001b[0m\n\u001b[1;32m    703\u001b[0m             \u001b[0mself\u001b[0m\u001b[0;34m.\u001b[0m\u001b[0m_parent_header\u001b[0m\u001b[0;34m,\u001b[0m\u001b[0;34m\u001b[0m\u001b[0;34m\u001b[0m\u001b[0m\n\u001b[0;32m--> 704\u001b[0;31m             \u001b[0mpassword\u001b[0m\u001b[0;34m=\u001b[0m\u001b[0;32mFalse\u001b[0m\u001b[0;34m,\u001b[0m\u001b[0;34m\u001b[0m\u001b[0;34m\u001b[0m\u001b[0m\n\u001b[0m\u001b[1;32m    705\u001b[0m         )\n\u001b[1;32m    706\u001b[0m \u001b[0;34m\u001b[0m\u001b[0m\n",
            "\u001b[0;32m/usr/local/lib/python3.7/dist-packages/ipykernel/kernelbase.py\u001b[0m in \u001b[0;36m_input_request\u001b[0;34m(self, prompt, ident, parent, password)\u001b[0m\n\u001b[1;32m    732\u001b[0m             \u001b[0;32mexcept\u001b[0m \u001b[0mKeyboardInterrupt\u001b[0m\u001b[0;34m:\u001b[0m\u001b[0;34m\u001b[0m\u001b[0;34m\u001b[0m\u001b[0m\n\u001b[1;32m    733\u001b[0m                 \u001b[0;31m# re-raise KeyboardInterrupt, to truncate traceback\u001b[0m\u001b[0;34m\u001b[0m\u001b[0;34m\u001b[0m\u001b[0;34m\u001b[0m\u001b[0m\n\u001b[0;32m--> 734\u001b[0;31m                 \u001b[0;32mraise\u001b[0m \u001b[0mKeyboardInterrupt\u001b[0m\u001b[0;34m\u001b[0m\u001b[0;34m\u001b[0m\u001b[0m\n\u001b[0m\u001b[1;32m    735\u001b[0m             \u001b[0;32melse\u001b[0m\u001b[0;34m:\u001b[0m\u001b[0;34m\u001b[0m\u001b[0;34m\u001b[0m\u001b[0m\n\u001b[1;32m    736\u001b[0m                 \u001b[0;32mbreak\u001b[0m\u001b[0;34m\u001b[0m\u001b[0;34m\u001b[0m\u001b[0m\n",
            "\u001b[0;31mKeyboardInterrupt\u001b[0m: "
          ]
        }
      ]
    }
  ]
}